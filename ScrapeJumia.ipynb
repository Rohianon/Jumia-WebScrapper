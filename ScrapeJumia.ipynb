{
 "cells": [
  {
   "cell_type": "markdown",
   "metadata": {},
   "source": [
    "Project: Web Scraping From the Jumia Website.\n",
    "    ========\n",
    "The purpose of this project is to scrape the [jumia](https://www.jumia.co.ke/) website.\n",
    "Its tended towards finding the most popular items Jumia is selling during this period of covid 19. This will enable us to predict which products are required most and also observe the customer trends. The requisite information is as follows:\n",
    "* Product name\n",
    "* Brand Name\n",
    "* Number of Ratings(Popularity Index)\n",
    "* Product size and finally \n",
    "* Promotional Discount."
   ]
  },
  {
   "cell_type": "markdown",
   "metadata": {},
   "source": [
    "### Exploring the page with chrome devtools.\n",
    "By right clicking the page where we have the text top-selling items and then inspect, we open up the tag that containts the text 'Top Selling Items' in the elements panel of our chrome dev tools.\n",
    "Always make sure the elements panel is highlighted.\n",
    "\n",
    "The outermost element that contains all of the information \n",
    "about the \"Top selling Items\" is a div tag with a class name `col16 -mvs`. \n",
    "On hovering around the console, we discover that each 'Top selling Item'\n",
    "is contained in a div tag within a class `item col`.\n",
    "Every element is in a list  and the list has a link containing all the information we want.\n",
    "This is enough for downloading the page and the parsing through it. \n",
    "Procedure\n",
    "----\n",
    "* ~ Download the webpage\n",
    "* ~ Create a BeautifulSoup object to parse the page.\n",
    "* ~ Find the div with class  `item col` and assign it to products  \n",
    "* ~ extract and print the first top item. "
   ]
  },
  {
   "cell_type": "code",
   "execution_count": 2,
   "metadata": {},
   "outputs": [
    {
     "name": "stdout",
     "output_type": "stream",
     "text": [
      "Gold Beer - 330ml (24 Pcs).\n",
      "KSh 180\n",
      "64%\n",
      "[]\n"
     ]
    }
   ],
   "source": [
    "import requests\n",
    "from bs4 import BeautifulSoup as bs\n",
    "\n",
    "page = requests.get(\"https://www.jumia.co.ke/\")\n",
    "soup = bs(page.content, \"html.parser\")\n",
    "top_items = soup.find(class_=\"col16 -mvs\")\n",
    "#print(top_items)\n",
    "products = top_items.find_all('a') #using the link tags a or #using the class prd box similar methods.\n",
    "product1 = products[0]#the first product in the list.\n",
    "#product1\n",
    "#product name,price and %discount for the first product\n",
    "name = products[0].find(class_='name').get_text()\n",
    "#the price of product 1\n",
    "price = products[1].find(class_='prc').get_text()\n",
    "#product discount\n",
    "disc = product1.find(class_='tag _dsct').get_text()\n",
    "\n",
    "#print(products)\n",
    "print(name)\n",
    "print(price)\n",
    "print(disc)\n",
    "\n",
    "\n",
    "#For a list of products\n",
    "#products = top_items.select('div',class_=\"crs _fl-rec row _no-g -fw-nw _6cl-4cm\")\n",
    "prices = [pt.get_text() for pt in top_items.select('div.prc')]\n",
    "name = [pt.get_text() for pt in top_items.select('div.name')]\n",
    "ratings = [pt.get('data-dimension27') for pt in top_items.select('a')]\n",
    "disc = [pt.get() for pt in top_items.select('div.tag _dsct')]#to be worked on\n",
    "brand = [b.get('data-brand') for b in top_items.select('a')]\n",
    "#print(brand)\n",
    "#print(ratings)\n",
    "#print(prices)\n",
    "print(disc)"
   ]
  },
  {
   "cell_type": "markdown",
   "metadata": {},
   "source": [
    "### adding to a pandas dataframe and converting to a CSV file."
   ]
  },
  {
   "cell_type": "code",
   "execution_count": 22,
   "metadata": {},
   "outputs": [],
   "source": [
    "import pandas as pd\n",
    "dir(pd)\n",
    "JumiaData = pd.DataFrame(\n",
    "{\n",
    "    'Product Name':name,\n",
    "    'Brand Name':brand,\n",
    "    'Popularity Index':ratings,\n",
    "    'Product Price':prices\n",
    "    #'promotional Disct':\n",
    "}\n",
    ")\n",
    "JumiaData.to_csv('products.csv',index=False, encoding='utf-8')\n",
    "data = pd.read_csv('products.csv')\n",
    "\n"
   ]
  },
  {
   "cell_type": "code",
   "execution_count": 17,
   "metadata": {},
   "outputs": [
    {
     "name": "stdout",
     "output_type": "stream",
     "text": [
      "['Categorical', 'CategoricalDtype', 'CategoricalIndex', 'DataFrame', 'DateOffset', 'DatetimeIndex', 'DatetimeTZDtype', 'ExcelFile', 'ExcelWriter', 'Float64Index', 'Grouper', 'HDFStore', 'Index', 'IndexSlice', 'Int16Dtype', 'Int32Dtype', 'Int64Dtype', 'Int64Index', 'Int8Dtype', 'Interval', 'IntervalDtype', 'IntervalIndex', 'MultiIndex', 'NaT', 'NamedAgg', 'Period', 'PeriodDtype', 'PeriodIndex', 'RangeIndex', 'Series', 'SparseArray', 'SparseDataFrame', 'SparseDtype', 'SparseSeries', 'Timedelta', 'TimedeltaIndex', 'Timestamp', 'UInt16Dtype', 'UInt32Dtype', 'UInt64Dtype', 'UInt64Index', 'UInt8Dtype', '__builtins__', '__cached__', '__doc__', '__docformat__', '__file__', '__getattr__', '__git_version__', '__loader__', '__name__', '__package__', '__path__', '__spec__', '__version__', '_config', '_hashtable', '_lib', '_libs', '_np_version_under1p14', '_np_version_under1p15', '_np_version_under1p16', '_np_version_under1p17', '_tslib', '_typing', '_version', 'api', 'array', 'arrays', 'bdate_range', 'compat', 'concat', 'core', 'crosstab', 'cut', 'date_range', 'datetime', 'describe_option', 'errors', 'eval', 'factorize', 'get_dummies', 'get_option', 'infer_freq', 'interval_range', 'io', 'isna', 'isnull', 'lreshape', 'melt', 'merge', 'merge_asof', 'merge_ordered', 'notna', 'notnull', 'np', 'offsets', 'option_context', 'options', 'pandas', 'period_range', 'pivot', 'pivot_table', 'plotting', 'qcut', 'read_clipboard', 'read_csv', 'read_excel', 'read_feather', 'read_fwf', 'read_gbq', 'read_hdf', 'read_html', 'read_json', 'read_msgpack', 'read_parquet', 'read_pickle', 'read_sas', 'read_spss', 'read_sql', 'read_sql_query', 'read_sql_table', 'read_stata', 'read_table', 'reset_option', 'set_eng_float_format', 'set_option', 'show_versions', 'test', 'testing', 'timedelta_range', 'to_datetime', 'to_msgpack', 'to_numeric', 'to_pickle', 'to_timedelta', 'tseries', 'unique', 'util', 'value_counts', 'wide_to_long']\n"
     ]
    },
    {
     "data": {
      "text/plain": [
       "0     KSh 1,250\n",
       "1       KSh 180\n",
       "2       KSh 300\n",
       "3       KSh 200\n",
       "4       KSh 135\n",
       "5       KSh 472\n",
       "6       KSh 113\n",
       "7        KSh 23\n",
       "8       KSh 371\n",
       "9       KSh 119\n",
       "10      KSh 470\n",
       "11      KSh 196\n",
       "12      KSh 121\n",
       "13      KSh 106\n",
       "14      KSh 196\n",
       "15    KSh 5,120\n",
       "16      KSh 198\n",
       "17       KSh 14\n",
       "18      KSh 106\n",
       "19      KSh 665\n",
       "20       KSh 46\n",
       "21      KSh 124\n",
       "22      KSh 123\n",
       "23      KSh 187\n",
       "24      KSh 260\n",
       "Name: Product Price, dtype: object"
      ]
     },
     "execution_count": 17,
     "metadata": {},
     "output_type": "execute_result"
    }
   ],
   "source": [
    "print(dir(pd))\n",
    "JumiaData['Product Price']"
   ]
  },
  {
   "cell_type": "markdown",
   "metadata": {},
   "source": [
    "# first and last terms on the dataframe."
   ]
  },
  {
   "cell_type": "code",
   "execution_count": 256,
   "metadata": {},
   "outputs": [
    {
     "name": "stdout",
     "output_type": "stream",
     "text": [
      "                                        Product Name Brand Name  \\\n",
      "0                        Gold Beer - 330ml (24 Pcs).  Ruhr Gold   \n",
      "1                          Premium White Sugar - 2kg     Kabras   \n",
      "2  1x Anti-dust Mouth Face Mask Cycling Surgical ...  A General   \n",
      "3  2pcs Reusable Washable Protective 3-Layer Face...    Generic   \n",
      "4          Dairy Top Milk 500ml-A  Pack of 12 Pieces      Dairy   \n",
      "\n",
      "  Popularity Index Product Price  \n",
      "0              4.3     KSh 1,250  \n",
      "1              4.5       KSh 200  \n",
      "2                        KSh 300  \n",
      "3              3.8       KSh 472  \n",
      "4              4.6       KSh 470  \n",
      "                           Product Name Brand Name Popularity Index  \\\n",
      "22            3.5kg Hand Wash Detergent      Ariel              4.6   \n",
      "23  Chapati Fortified Wheat Flour - 2Kg        Exe              4.7   \n",
      "24                 Fresh Milk Pouch Esl      Daima              4.6   \n",
      "25              1kg Hand Wash Detergent      Ariel              4.4   \n",
      "26    Dish washing Liquid Lemon - 750ml   Sunlight              4.6   \n",
      "\n",
      "   Product Price  \n",
      "22       KSh 799  \n",
      "23       KSh 121  \n",
      "24        KSh 42  \n",
      "25       KSh 290  \n",
      "26       KSh 180  \n"
     ]
    },
    {
     "data": {
      "text/html": [
       "<div>\n",
       "<style scoped>\n",
       "    .dataframe tbody tr th:only-of-type {\n",
       "        vertical-align: middle;\n",
       "    }\n",
       "\n",
       "    .dataframe tbody tr th {\n",
       "        vertical-align: top;\n",
       "    }\n",
       "\n",
       "    .dataframe thead th {\n",
       "        text-align: right;\n",
       "    }\n",
       "</style>\n",
       "<table border=\"1\" class=\"dataframe\">\n",
       "  <thead>\n",
       "    <tr style=\"text-align: right;\">\n",
       "      <th></th>\n",
       "      <th>Product Name</th>\n",
       "      <th>Brand Name</th>\n",
       "      <th>Popularity Index</th>\n",
       "      <th>Product Price</th>\n",
       "    </tr>\n",
       "  </thead>\n",
       "  <tbody>\n",
       "    <tr>\n",
       "      <td>0</td>\n",
       "      <td>Gold Beer - 330ml (24 Pcs).</td>\n",
       "      <td>Ruhr Gold</td>\n",
       "      <td>4.3</td>\n",
       "      <td>KSh 1,250</td>\n",
       "    </tr>\n",
       "    <tr>\n",
       "      <td>1</td>\n",
       "      <td>Premium White Sugar - 2kg</td>\n",
       "      <td>Kabras</td>\n",
       "      <td>4.5</td>\n",
       "      <td>KSh 200</td>\n",
       "    </tr>\n",
       "    <tr>\n",
       "      <td>2</td>\n",
       "      <td>1x Anti-dust Mouth Face Mask Cycling Surgical ...</td>\n",
       "      <td>A General</td>\n",
       "      <td></td>\n",
       "      <td>KSh 300</td>\n",
       "    </tr>\n",
       "    <tr>\n",
       "      <td>3</td>\n",
       "      <td>2pcs Reusable Washable Protective 3-Layer Face...</td>\n",
       "      <td>Generic</td>\n",
       "      <td>3.8</td>\n",
       "      <td>KSh 472</td>\n",
       "    </tr>\n",
       "    <tr>\n",
       "      <td>4</td>\n",
       "      <td>Dairy Top Milk 500ml-A  Pack of 12 Pieces</td>\n",
       "      <td>Dairy</td>\n",
       "      <td>4.6</td>\n",
       "      <td>KSh 470</td>\n",
       "    </tr>\n",
       "    <tr>\n",
       "      <td>5</td>\n",
       "      <td>Antibacterial Hand Sanitizer - 50ml</td>\n",
       "      <td>Lifebuoy</td>\n",
       "      <td>4.5</td>\n",
       "      <td>KSh 135</td>\n",
       "    </tr>\n",
       "    <tr>\n",
       "      <td>6</td>\n",
       "      <td>All-Purpose Fortified Wheat Flour 2Kg</td>\n",
       "      <td>Ajab</td>\n",
       "      <td>4.8</td>\n",
       "      <td>KSh 113</td>\n",
       "    </tr>\n",
       "    <tr>\n",
       "      <td>7</td>\n",
       "      <td>Water - 18.5 Litres - Disposable Bottle</td>\n",
       "      <td>Aquamist</td>\n",
       "      <td>4.5</td>\n",
       "      <td>KSh 371</td>\n",
       "    </tr>\n",
       "    <tr>\n",
       "      <td>8</td>\n",
       "      <td>All-Purpose Fortified Wheat Flour - 2Kg</td>\n",
       "      <td>Exe</td>\n",
       "      <td>4.6</td>\n",
       "      <td>KSh 119</td>\n",
       "    </tr>\n",
       "    <tr>\n",
       "      <td>9</td>\n",
       "      <td>Penne Rigate - 400g</td>\n",
       "      <td>Santa Maria</td>\n",
       "      <td>5</td>\n",
       "      <td>KSh 116</td>\n",
       "    </tr>\n",
       "    <tr>\n",
       "      <td>10</td>\n",
       "      <td>UHT Fino Whole Milk - 500ml</td>\n",
       "      <td>Daima</td>\n",
       "      <td>4.4</td>\n",
       "      <td>KSh 49</td>\n",
       "    </tr>\n",
       "    <tr>\n",
       "      <td>11</td>\n",
       "      <td>Margarine - 1kg</td>\n",
       "      <td>Blue Band</td>\n",
       "      <td>4.5</td>\n",
       "      <td>KSh 260</td>\n",
       "    </tr>\n",
       "    <tr>\n",
       "      <td>12</td>\n",
       "      <td>Hand Sanitizing Gel - 65 Ml</td>\n",
       "      <td>Nice &amp; Lovely</td>\n",
       "      <td>4.6</td>\n",
       "      <td>KSh 123</td>\n",
       "    </tr>\n",
       "    <tr>\n",
       "      <td>13</td>\n",
       "      <td>Maize Meal  - 2kg</td>\n",
       "      <td>Jogoo</td>\n",
       "      <td>4.4</td>\n",
       "      <td>KSh 124</td>\n",
       "    </tr>\n",
       "    <tr>\n",
       "      <td>14</td>\n",
       "      <td>Iodated Table Salt - 1kg</td>\n",
       "      <td>Kensalt</td>\n",
       "      <td>4.6</td>\n",
       "      <td>KSh 28</td>\n",
       "    </tr>\n",
       "    <tr>\n",
       "      <td>15</td>\n",
       "      <td>Hand Washing Powder Extra Fresh - 3.5kg</td>\n",
       "      <td>Omo</td>\n",
       "      <td>4.8</td>\n",
       "      <td>KSh 665</td>\n",
       "    </tr>\n",
       "    <tr>\n",
       "      <td>16</td>\n",
       "      <td>Soft Drink - 600ml</td>\n",
       "      <td>Mountain Dew</td>\n",
       "      <td>4.4</td>\n",
       "      <td>KSh 47</td>\n",
       "    </tr>\n",
       "    <tr>\n",
       "      <td>17</td>\n",
       "      <td>Classic Cofee Sachet 1.6g</td>\n",
       "      <td>Maccoffee</td>\n",
       "      <td>4.6</td>\n",
       "      <td>KSh 4</td>\n",
       "    </tr>\n",
       "    <tr>\n",
       "      <td>18</td>\n",
       "      <td>Soya Wholebean Milk - 1 Litre</td>\n",
       "      <td>Alpro</td>\n",
       "      <td></td>\n",
       "      <td>KSh 446</td>\n",
       "    </tr>\n",
       "    <tr>\n",
       "      <td>19</td>\n",
       "      <td>Salted Snacks - 20g</td>\n",
       "      <td>Wow</td>\n",
       "      <td></td>\n",
       "      <td>KSh 9</td>\n",
       "    </tr>\n",
       "    <tr>\n",
       "      <td>20</td>\n",
       "      <td>Noodles - Chicken Flavour - 20 Pack</td>\n",
       "      <td>Indomie</td>\n",
       "      <td>4.5</td>\n",
       "      <td>KSh 480</td>\n",
       "    </tr>\n",
       "    <tr>\n",
       "      <td>21</td>\n",
       "      <td>Red Grape Juice – 1 Litre Pick N' Peel</td>\n",
       "      <td>Pick N' Peel</td>\n",
       "      <td>4.3</td>\n",
       "      <td>KSh 187</td>\n",
       "    </tr>\n",
       "    <tr>\n",
       "      <td>22</td>\n",
       "      <td>3.5kg Hand Wash Detergent</td>\n",
       "      <td>Ariel</td>\n",
       "      <td>4.6</td>\n",
       "      <td>KSh 799</td>\n",
       "    </tr>\n",
       "    <tr>\n",
       "      <td>23</td>\n",
       "      <td>Chapati Fortified Wheat Flour - 2Kg</td>\n",
       "      <td>Exe</td>\n",
       "      <td>4.7</td>\n",
       "      <td>KSh 121</td>\n",
       "    </tr>\n",
       "    <tr>\n",
       "      <td>24</td>\n",
       "      <td>Fresh Milk Pouch Esl</td>\n",
       "      <td>Daima</td>\n",
       "      <td>4.6</td>\n",
       "      <td>KSh 42</td>\n",
       "    </tr>\n",
       "    <tr>\n",
       "      <td>25</td>\n",
       "      <td>1kg Hand Wash Detergent</td>\n",
       "      <td>Ariel</td>\n",
       "      <td>4.4</td>\n",
       "      <td>KSh 290</td>\n",
       "    </tr>\n",
       "    <tr>\n",
       "      <td>26</td>\n",
       "      <td>Dish washing Liquid Lemon - 750ml</td>\n",
       "      <td>Sunlight</td>\n",
       "      <td>4.6</td>\n",
       "      <td>KSh 180</td>\n",
       "    </tr>\n",
       "  </tbody>\n",
       "</table>\n",
       "</div>"
      ],
      "text/plain": [
       "                                         Product Name     Brand Name  \\\n",
       "0                         Gold Beer - 330ml (24 Pcs).      Ruhr Gold   \n",
       "1                           Premium White Sugar - 2kg         Kabras   \n",
       "2   1x Anti-dust Mouth Face Mask Cycling Surgical ...      A General   \n",
       "3   2pcs Reusable Washable Protective 3-Layer Face...        Generic   \n",
       "4           Dairy Top Milk 500ml-A  Pack of 12 Pieces          Dairy   \n",
       "5                 Antibacterial Hand Sanitizer - 50ml       Lifebuoy   \n",
       "6               All-Purpose Fortified Wheat Flour 2Kg           Ajab   \n",
       "7             Water - 18.5 Litres - Disposable Bottle       Aquamist   \n",
       "8             All-Purpose Fortified Wheat Flour - 2Kg            Exe   \n",
       "9                                 Penne Rigate - 400g    Santa Maria   \n",
       "10                        UHT Fino Whole Milk - 500ml          Daima   \n",
       "11                                    Margarine - 1kg      Blue Band   \n",
       "12                        Hand Sanitizing Gel - 65 Ml  Nice & Lovely   \n",
       "13                                  Maize Meal  - 2kg          Jogoo   \n",
       "14                           Iodated Table Salt - 1kg        Kensalt   \n",
       "15            Hand Washing Powder Extra Fresh - 3.5kg            Omo   \n",
       "16                                 Soft Drink - 600ml   Mountain Dew   \n",
       "17                          Classic Cofee Sachet 1.6g      Maccoffee   \n",
       "18                      Soya Wholebean Milk - 1 Litre          Alpro   \n",
       "19                                Salted Snacks - 20g            Wow   \n",
       "20                Noodles - Chicken Flavour - 20 Pack        Indomie   \n",
       "21             Red Grape Juice – 1 Litre Pick N' Peel   Pick N' Peel   \n",
       "22                          3.5kg Hand Wash Detergent          Ariel   \n",
       "23                Chapati Fortified Wheat Flour - 2Kg            Exe   \n",
       "24                               Fresh Milk Pouch Esl          Daima   \n",
       "25                            1kg Hand Wash Detergent          Ariel   \n",
       "26                  Dish washing Liquid Lemon - 750ml       Sunlight   \n",
       "\n",
       "   Popularity Index Product Price  \n",
       "0               4.3     KSh 1,250  \n",
       "1               4.5       KSh 200  \n",
       "2                         KSh 300  \n",
       "3               3.8       KSh 472  \n",
       "4               4.6       KSh 470  \n",
       "5               4.5       KSh 135  \n",
       "6               4.8       KSh 113  \n",
       "7               4.5       KSh 371  \n",
       "8               4.6       KSh 119  \n",
       "9                 5       KSh 116  \n",
       "10              4.4        KSh 49  \n",
       "11              4.5       KSh 260  \n",
       "12              4.6       KSh 123  \n",
       "13              4.4       KSh 124  \n",
       "14              4.6        KSh 28  \n",
       "15              4.8       KSh 665  \n",
       "16              4.4        KSh 47  \n",
       "17              4.6         KSh 4  \n",
       "18                        KSh 446  \n",
       "19                          KSh 9  \n",
       "20              4.5       KSh 480  \n",
       "21              4.3       KSh 187  \n",
       "22              4.6       KSh 799  \n",
       "23              4.7       KSh 121  \n",
       "24              4.6        KSh 42  \n",
       "25              4.4       KSh 290  \n",
       "26              4.6       KSh 180  "
      ]
     },
     "execution_count": 256,
     "metadata": {},
     "output_type": "execute_result"
    }
   ],
   "source": [
    "print(JumiaData.head())\n",
    "print(JumiaData.tail())\n",
    "JumiaData"
   ]
  },
  {
   "cell_type": "code",
   "execution_count": 244,
   "metadata": {},
   "outputs": [
    {
     "name": "stdout",
     "output_type": "stream",
     "text": [
      "4.1\n",
      "64%\n",
      "Ruhr Gold\n",
      "['4.1', '4.5', '', '4.3', '4.6', '4.5', '4.7', '4.5', '4.6', '5', '4.4', '4.6', '4.5', '4.4', '4.6', '4.8', '4.4', '4.6', '', '', '4.5', '4.3', '4.6', '4.7', '4.6', '4.4', '4.6']\n",
      "[]\n",
      "['Ruhr Gold', 'Kabras', 'A General', 'Generic', 'Dairy', 'Lifebuoy', 'Ajab', 'Aquamist', 'Exe', 'Santa Maria', 'Daima', 'Blue Band', 'Nice & Lovely', 'Jogoo', 'Kensalt', 'Omo', 'Mountain Dew', 'Maccoffee', 'Alpro', 'Wow', 'Indomie', \"Pick N' Peel\", 'Ariel', 'Exe', 'Daima', 'Ariel', 'Sunlight']\n",
      "['KSh 1,250', 'KSh 200', 'KSh 300', 'KSh 472', 'KSh 470', 'KSh 135', 'KSh 113', 'KSh 371', 'KSh 119', 'KSh 116', 'KSh 49', 'KSh 260', 'KSh 123', 'KSh 124', 'KSh 28', 'KSh 665', 'KSh 47', 'KSh 4', 'KSh 446', 'KSh 9', 'KSh 500', 'KSh 187', 'KSh 799', 'KSh 121', 'KSh 42', 'KSh 290', 'KSh 180']\n"
     ]
    }
   ],
   "source": [
    "beer = \"\"\"<div class=\"crs _fl-rec row _no-g -fw-nw _6cl-4cm\">\n",
    "<div class=\"itm col\">\n",
    "<a class=\"prd _box\" href=\"/ruhr-gold-gold-beer-330ml-24-pcs.-28643270.html\"\n",
    "data-id=\"RU166DB04B2BENAFAMZ\" data-name=\"Gold Beer - 330ml (24 Pcs).\" \n",
    "data-price=\"10.81\"data-brand=\"Ruhr Gold\"data-category=\"Grocery/Drinks/Beer, Wine &amp; Spirits/Beers\"data-dimension23=\"62206\" \n",
    "data-dimension26=\"15\" data-dimension27=\"4.1\" data-dimension28=\"1\"\n",
    "data-dimension37=\"0\" data-dimension43=\"GAM0\" data-dimension44=\"0\" data-position=\"1\" \n",
    "data-track-onclick=\"eecProduct\" data-track-onview=\"eecProduct\" data-track-onclick-bound=\"true\">\n",
    "<img data-src=\"https://ke.jumia.is/unsafe/fit-in/300x300/filters:fill(white)/product/07/234682/1.jpg?4424\"\n",
    "src=\"https://ke.jumia.is/unsafe/fit-in/300x300/filters:fill(white)/product/07/234682/1.jpg?4424\" \n",
    "class=\"img\" width=\"185\" height=\"185\" alt=\"Gold Beer - 330ml (24 Pcs).\"><div class=\"name\">Gold Beer - 330ml (24 Pcs).</div>\n",
    "<div class=\"prc\" data-oprc=\"KSh 3,500\">KSh 1,250</div><div class=\"tag _dsct\">64%</div></a>\n",
    "</div>\n",
    "<div class=\"itm col\"><a class=\"prd _box\" href=\"/sugar-2kg-kabras-mpg164322.html\" data-id=\"KA729OT078YENNAFAMZ\" \n",
    "data-name=\"Premium White Sugar - 2kg\" data-price=\"1.73\" data-brand=\"Kabras\"\n",
    "data-category=\"Grocery/Food Cupboard/Sugar &amp; Flour/Sugar\" data-dimension23=\"29156\" data-dimension26=\"1016\" \n",
    "data-dimension27=\"4.5\" data-dimension28=\"1\" data-dimension37=\"0\" data-dimension43=\"COL_72|JESS|JMALL\" data-dimension44=\"0\" \n",
    "data-position=\"2\" data-track-onclick=\"eecProduct\" data-track-onview=\"eecProduct\" data-track-onclick-bound=\"true\">\n",
    "<img data-src=\"https://ke.jumia.is/unsafe/fit-in/300x300/filters:fill(white)/product/12/175151/1.jpg?5785\" \n",
    "src=\"https://ke.jumia.is/unsafe/fit-in/300x300/filters:fill(white)/product/12/175151/1.jpg?5785\" class=\"img\"\n",
    "width=\"185\" height=\"185\" alt=\"Premium White Sugar - 2kg\"><div class=\"name\">Premium White Sugar - 2kg</div>\n",
    "<div class=\"prc\" data-oprc=\"KSh 230\">KSh 200</div><div class=\"tag _dsct\">13%</div></a></div><div class=\"itm col\">\n",
    "<a class=\"prd _box\" href=\"/a-general-1x-anti-dust-mouth-face-mask-cycling-surgical-respirator-adult-reusable-28563366.html\"\n",
    "data-id=\"AG975ST13HTMUNAFAMZ\" data-name=\"1x Anti-dust Mouth Face Mask Cycling Surgical Respirator Adult Reusable\"\n",
    "data-price=\"2.59\" data-brand=\"A General\" data-category=\"Health &amp; Beauty/Health Care/First Aid/Masks\" \n",
    "data-dimension23=\"19547\" data-dimension26=\"\" data-dimension27=\"\" data-dimension28=\"0\" data-dimension37=\"1\" data-dimension43=\"\" data-dimension44=\"0\" data-position=\"3\" data-track-onclick=\"eecProduct\" data-track-onview=\"eecProduct\" data-track-onclick-bound=\"true\"><img data-src=\"https://ke.jumia.is/unsafe/fit-in/300x300/filters:fill(white)/product/66/336582/1.jpg?8810\" src=\"https://ke.jumia.is/unsafe/fit-in/300x300/filters:fill(white)/product/66/336582/1.jpg?8810\" class=\"img\" width=\"185\" height=\"185\" alt=\"1x Anti-dust Mouth Face Mask Cycling Surgical Respirator Adult Reusable\"><div class=\"name\">1x Anti-dust Mouth Face Mask Cycling Surgical Respirator Adult Reusable</div><div class=\"prc\" data-oprc=\"KSh 432\">KSh 300</div><div class=\"tag _dsct\">31%</div></a></div><div class=\"itm col\"><a class=\"prd _box\" href=\"/reusable-washable-protective-3-layer-face-mask-2pcs-generic-mpg227127.html\" data-id=\"GE840ST1AD4HMNAFAMZ\" data-name=\"2pcs Reusable Washable Protective 3-Layer Face Mask\" data-price=\"4.08\" data-brand=\"Generic\" data-category=\"Health &amp; Beauty/Health Care/First Aid/Masks\" data-dimension23=\"40338\" data-dimension26=\"7\" data-dimension27=\"4.3\" data-dimension28=\"0\" data-dimension37=\"0\" data-dimension43=\"\" data-dimension44=\"0\" data-position=\"4\" data-track-onclick=\"eecProduct\" data-track-onview=\"eecProduct\" data-track-onclick-bound=\"true\"><img data-lazy=\"\" data-src=\"https://ke.jumia.is/unsafe/fit-in/300x300/filters:fill(white)/product/77/874682/1.jpg?6844\" src=\"data:image/gif;base64,R0lGODlhAQABAIAAAAAAAP///yH5BAEAAAAALAAAAAABAAEAAAIBRAA7\" class=\"img\" width=\"185\" height=\"185\" alt=\"2pcs Reusable Washable Protective 3-Layer Face Mask\"><div class=\"name\">2pcs Reusable Washable Protective 3-Layer Face Mask</div><div class=\"prc\" data-oprc=\"KSh 700\">KSh 472</div><div class=\"tag _dsct\">33%</div></a></div><div class=\"itm col\"><a class=\"prd _box\" href=\"/dairy-top-milk-500ml-pack-of-12-pieces-dairy-mpg225978.html\" data-id=\"DA278DB17SLIWNAFAMZ\" data-name=\"Dairy Top Milk 500ml-A  Pack of 12 Pieces\" data-price=\"4.05\" data-brand=\"Dairy\" data-category=\"Grocery/Drinks/Milk/Long Life\" data-dimension23=\"52050\" data-dimension26=\"155\" data-dimension27=\"4.6\" data-dimension28=\"1\" data-dimension37=\"0\" data-dimension43=\"COL_31|GAM0\" data-dimension44=\"0\" data-position=\"5\" data-track-onclick=\"eecProduct\" data-track-onview=\"eecProduct\" data-track-onclick-bound=\"true\"><img data-lazy=\"\" data-src=\"https://ke.jumia.is/unsafe/fit-in/300x300/filters:fill(white)/product/73/557752/1.jpg?6487\" src=\"data:image/gif;base64,R0lGODlhAQABAIAAAAAAAP///yH5BAEAAAAALAAAAAABAAEAAAIBRAA7\" class=\"img\" width=\"185\" height=\"185\" alt=\"Dairy Top Milk 500ml-A  Pack of 12 Pieces\"><div class=\"name\">Dairy Top Milk 500ml-A  Pack of 12 Pieces</div><div class=\"prc\" data-oprc=\"KSh 600\">KSh 470</div><div class=\"tag _dsct\">22%</div></a></div><div class=\"itm col\"><a class=\"prd _box\" href=\"/antibacterial-hand-sanitizer-55ml-lifebuoy-mpg59091.html\" data-id=\"LI644DR0N73T8NAFAMZ\" data-name=\"Antibacterial Hand Sanitizer - 50ml\" data-price=\"1.17\" data-brand=\"Lifebuoy\" data-category=\"Health &amp; Beauty/Health Care/First Aid/Antibiotics &amp; Antiseptics/Hand Sanitizers\" data-dimension23=\"3196\" data-dimension26=\"99\" data-dimension27=\"4.5\" data-dimension28=\"1\" data-dimension37=\"0\" data-dimension43=\"JESS|JMALL\" data-dimension44=\"0\" data-position=\"6\" data-track-onclick=\"eecProduct\" data-track-onview=\"eecProduct\" data-track-onclick-bound=\"true\"><img data-lazy=\"\" data-src=\"https://ke.jumia.is/unsafe/fit-in/300x300/filters:fill(white)/product/38/9627/1.jpg?5625\" src=\"data:image/gif;base64,R0lGODlhAQABAIAAAAAAAP///yH5BAEAAAAALAAAAAABAAEAAAIBRAA7\" class=\"img\" width=\"185\" height=\"185\" alt=\"Antibacterial Hand Sanitizer - 50ml\"><div class=\"name\">Antibacterial Hand Sanitizer - 50ml</div><div class=\"prc\" data-oprc=\"KSh 150\">KSh 135</div><div class=\"tag _dsct\">10%</div></a></div><div class=\"itm col\"><a class=\"prd _box\" href=\"/ajab-all-purpose-fortified-wheat-flour-2kg-28221490.html\" data-id=\"AJ428FF05LQKANAFAMZ\" data-name=\"All-Purpose Fortified Wheat Flour 2Kg\" data-price=\"0.98\" data-brand=\"Ajab\" data-category=\"Grocery/Food Cupboard/Sugar &amp; Flour/Wheat Flour\" data-dimension23=\"18951\" data-dimension26=\"18\" data-dimension27=\"4.7\" data-dimension28=\"0\" data-dimension37=\"0\" data-dimension43=\"CARR|COL_72|JESS\" data-dimension44=\"0\" data-position=\"7\" data-track-onclick=\"eecProduct\" data-track-onview=\"eecProduct\" data-track-onclick-bound=\"true\"><img data-lazy=\"\" data-src=\"https://ke.jumia.is/unsafe/fit-in/300x300/filters:fill(white)/product/09/412282/1.jpg?9005\" src=\"data:image/gif;base64,R0lGODlhAQABAIAAAAAAAP///yH5BAEAAAAALAAAAAABAAEAAAIBRAA7\" class=\"img\" width=\"185\" height=\"185\" alt=\"All-Purpose Fortified Wheat Flour 2Kg\"><div class=\"name\">All-Purpose Fortified Wheat Flour 2Kg</div><div class=\"prc\" data-oprc=\"KSh 119\">KSh 113</div><div class=\"tag _dsct\">5%</div></a></div><div class=\"itm col\"><a class=\"prd _box\" href=\"/water-18.5-litres-disposable-bottle..-aquamist-mpg207674.html\" data-id=\"AQ014OT0AFLTKNAFAMZ\" data-name=\"Water - 18.5 Litres - Disposable Bottle\" data-price=\"3.21\" data-brand=\"Aquamist\" data-category=\"Grocery/Drinks/Water/Drinking Water\" data-dimension23=\"2439\" data-dimension26=\"363\" data-dimension27=\"4.5\" data-dimension28=\"1\" data-dimension37=\"0\" data-dimension43=\"COL_31|JESS\" data-dimension44=\"0\" data-position=\"8\" data-track-onclick=\"eecProduct\" data-track-onview=\"eecProduct\" data-track-onclick-bound=\"true\"><img data-lazy=\"\" data-src=\"https://ke.jumia.is/unsafe/fit-in/300x300/filters:fill(white)/product/17/52428/1.jpg?4657\" src=\"data:image/gif;base64,R0lGODlhAQABAIAAAAAAAP///yH5BAEAAAAALAAAAAABAAEAAAIBRAA7\" class=\"img\" width=\"185\" height=\"185\" alt=\"Water - 18.5 Litres - Disposable Bottle\"><div class=\"name\">Water - 18.5 Litres - Disposable Bottle</div><div class=\"prc\" data-oprc=\"KSh 500\">KSh 371</div><div class=\"tag _dsct\">26%</div></a></div><div class=\"itm col\"><a class=\"prd _box\" href=\"/all-purpose-fortified-wheat-flour-2kg-exe-mpg135181.html\" data-id=\"EX715OT0PMUMHNAFAMZ\" data-name=\"All-Purpose Fortified Wheat Flour - 2Kg\" data-price=\"1.03\" data-brand=\"Exe\" data-category=\"Grocery/Food Cupboard/Sugar &amp; Flour/Wheat Flour\" data-dimension23=\"18951\" data-dimension26=\"292\" data-dimension27=\"4.6\" data-dimension28=\"0\" data-dimension37=\"0\" data-dimension43=\"CARR|COL_31|COL_72|JESS\" data-dimension44=\"0\" data-position=\"9\" data-track-onclick=\"eecProduct\" data-track-onview=\"eecProduct\" data-track-onclick-bound=\"true\"><img data-lazy=\"\" data-src=\"https://ke.jumia.is/unsafe/fit-in/300x300/filters:fill(white)/product/43/056521/1.jpg?3052\" src=\"data:image/gif;base64,R0lGODlhAQABAIAAAAAAAP///yH5BAEAAAAALAAAAAABAAEAAAIBRAA7\" class=\"img\" width=\"185\" height=\"185\" alt=\"All-Purpose Fortified Wheat Flour - 2Kg\"><div class=\"name\">All-Purpose Fortified Wheat Flour - 2Kg</div><div class=\"prc\">KSh 119</div></a></div><div class=\"itm col\"><a class=\"prd _box\" href=\"/santa-maria-penne-rigate-400g-13520352.html\" data-id=\"SA189OT0F2BK3NAFAMZ\" data-name=\"Penne Rigate - 400g\" data-price=\"1.00\" data-brand=\"Santa Maria\" data-category=\"Grocery/Food Cupboard/Pasta &amp; Noodles/Pasta\" data-dimension23=\"18951\" data-dimension26=\"1\" data-dimension27=\"5\" data-dimension28=\"0\" data-dimension37=\"0\" data-dimension43=\"COL_39\" data-dimension44=\"0\" data-position=\"10\" data-track-onclick=\"eecProduct\" data-track-onview=\"eecProduct\" data-track-onclick-bound=\"true\"><img data-lazy=\"\" data-src=\"https://ke.jumia.is/unsafe/fit-in/300x300/filters:fill(white)/product/25/302531/1.jpg?4687\" src=\"data:image/gif;base64,R0lGODlhAQABAIAAAAAAAP///yH5BAEAAAAALAAAAAABAAEAAAIBRAA7\" class=\"img\" width=\"185\" height=\"185\" alt=\"Penne Rigate - 400g\"><div class=\"name\">Penne Rigate - 400g</div><div class=\"prc\" data-oprc=\"KSh 117\">KSh 116</div><div class=\"tag _dsct\">1%</div></a></div><div class=\"itm col\"><a class=\"prd _box\" href=\"/uht-whole-milk-500-ml-kcc-mpg133993.html\" data-id=\"DA410OT1DIBZDNAFAMZ\" data-name=\"UHT Fino Whole Milk - 500ml\" data-price=\"0.42\" data-brand=\"Daima\" data-category=\"Grocery/Drinks/Milk/Long Life\" data-dimension23=\"18951\" data-dimension26=\"97\" data-dimension27=\"4.4\" data-dimension28=\"0\" data-dimension37=\"0\" data-dimension43=\"CARR|JESS\" data-dimension44=\"0\" data-position=\"11\" data-track-onclick=\"eecProduct\" data-track-onview=\"eecProduct\" data-track-onclick-bound=\"true\"><img data-lazy=\"\" data-src=\"https://ke.jumia.is/unsafe/fit-in/300x300/filters:fill(white)/product/83/156521/1.jpg?7253\" src=\"data:image/gif;base64,R0lGODlhAQABAIAAAAAAAP///yH5BAEAAAAALAAAAAABAAEAAAIBRAA7\" class=\"img\" width=\"185\" height=\"185\" alt=\"UHT Fino Whole Milk - 500ml\"><div class=\"name\">UHT Fino Whole Milk - 500ml</div><div class=\"prc\">KSh 49</div></a></div><div class=\"itm col\"><a class=\"prd _box\" href=\"/margarine-1kg-blue-band-mpg16676.html\" data-id=\"UN156OT108CFFNAFAMZ\" data-name=\"Margarine - 1kg\" data-price=\"2.25\" data-brand=\"Blue Band\" data-category=\"Grocery/Food Cupboard/Margarine, Jams, Honey &amp; Spreads/Margarine\" data-dimension23=\"28696\" data-dimension26=\"306\" data-dimension27=\"4.6\" data-dimension28=\"1\" data-dimension37=\"0\" data-dimension43=\"\" data-dimension44=\"0\" data-position=\"12\" data-track-onclick=\"eecProduct\" data-track-onview=\"eecProduct\" data-track-onclick-bound=\"true\"><img data-lazy=\"\" data-src=\"https://ke.jumia.is/unsafe/fit-in/300x300/filters:fill(white)/product/60/855531/1.jpg?7868\" src=\"data:image/gif;base64,R0lGODlhAQABAIAAAAAAAP///yH5BAEAAAAALAAAAAABAAEAAAIBRAA7\" class=\"img\" width=\"185\" height=\"185\" alt=\"Margarine - 1kg\"><div class=\"name\">Margarine - 1kg</div><div class=\"prc\" data-oprc=\"KSh 330\">KSh 260</div><div class=\"tag _dsct\">21%</div></a></div><div class=\"itm col\"><a class=\"prd _box\" href=\"/nice-lovely-hand-sanitizing-gel-65-ml-28581787.html\" data-id=\"NI579ST1AV7NANAFAMZ\" data-name=\"Hand Sanitizing Gel - 65 Ml\" data-price=\"1.06\" data-brand=\"Nice &amp; Lovely\" data-category=\"Health &amp; Beauty/Health Care/First Aid/Antibiotics &amp; Antiseptics/Hand Sanitizers\" data-dimension23=\"5763\" data-dimension26=\"21\" data-dimension27=\"4.5\" data-dimension28=\"1\" data-dimension37=\"0\" data-dimension43=\"JESS|JMALL\" data-dimension44=\"0\" data-position=\"13\" data-track-onclick=\"eecProduct\" data-track-onview=\"eecProduct\" data-track-onclick-bound=\"true\"><img data-lazy=\"\" data-src=\"https://ke.jumia.is/unsafe/fit-in/300x300/filters:fill(white)/product/78/718582/1.jpg?0823\" src=\"data:image/gif;base64,R0lGODlhAQABAIAAAAAAAP///yH5BAEAAAAALAAAAAABAAEAAAIBRAA7\" class=\"img\" width=\"185\" height=\"185\" alt=\"Hand Sanitizing Gel - 65 Ml\"><div class=\"name\">Hand Sanitizing Gel - 65 Ml</div><div class=\"prc\" data-oprc=\"KSh 129\">KSh 123</div><div class=\"tag _dsct\">5%</div></a></div><div class=\"itm col\"><a class=\"prd _box\" href=\"/jogoo-maize-meal-2kg-jogoo-mpg133055.html\" data-id=\"JO728OT0PVBEZNAFAMZ\" data-name=\"Maize Meal  - 2kg\" data-price=\"1.07\" data-brand=\"Jogoo\" data-category=\"Grocery/Food Cupboard/Sugar &amp; Flour/Maize - Corn Flour\" data-dimension23=\"18951\" data-dimension26=\"564\" data-dimension27=\"4.4\" data-dimension28=\"0\" data-dimension37=\"0\" data-dimension43=\"CARR|COL_31|COL_72\" data-dimension44=\"0\" data-position=\"14\" data-track-onclick=\"eecProduct\" data-track-onview=\"eecProduct\" data-track-onclick-bound=\"true\"><img data-lazy=\"\" data-src=\"https://ke.jumia.is/unsafe/fit-in/300x300/filters:fill(white)/product/43/451531/1.jpg?3052\" src=\"data:image/gif;base64,R0lGODlhAQABAIAAAAAAAP///yH5BAEAAAAALAAAAAABAAEAAAIBRAA7\" class=\"img\" width=\"185\" height=\"185\" alt=\"Maize Meal  - 2kg\"><div class=\"name\">Maize Meal  - 2kg</div><div class=\"prc\">KSh 124</div></a></div><div class=\"itm col\"><a class=\"prd _box\" href=\"/kensalt-iodated-table-salt-1kg-12565062.html\" data-id=\"KE885OT0FIHC9NAFAMZ\" data-name=\"Iodated Table Salt - 1kg\" data-price=\"0.24\" data-brand=\"Kensalt\" data-category=\"Grocery/Food Cupboard/Cooking Ingredients/Salt\" data-dimension23=\"18951\" data-dimension26=\"110\" data-dimension27=\"4.6\" data-dimension28=\"0\" data-dimension37=\"0\" data-dimension43=\"CARR|COL_31|COL_72|JESS\" data-dimension44=\"0\" data-position=\"15\" data-track-onclick=\"eecProduct\" data-track-onview=\"eecProduct\" data-track-onclick-bound=\"true\"><img data-lazy=\"\" data-src=\"https://ke.jumia.is/unsafe/fit-in/300x300/filters:fill(white)/product/26/056521/1.jpg?7251\" src=\"data:image/gif;base64,R0lGODlhAQABAIAAAAAAAP///yH5BAEAAAAALAAAAAABAAEAAAIBRAA7\" class=\"img\" width=\"185\" height=\"185\" alt=\"Iodated Table Salt - 1kg\"><div class=\"name\">Iodated Table Salt - 1kg</div><div class=\"prc\">KSh 28</div></a></div><div class=\"itm col\"><a class=\"prd _box\" href=\"/omo-hand-washing-powder-extra-fresh-3.5kg-25398360.html\" data-id=\"OM483DR03SY20NAFAMZ\" data-name=\"Hand Washing Powder Extra Fresh - 3.5kg\" data-price=\"5.75\" data-brand=\"Omo\" data-category=\"Grocery/Household Supplies/Laundry/Powder Detergent (Hand)\" data-dimension23=\"3196\" data-dimension26=\"62\" data-dimension27=\"4.8\" data-dimension28=\"1\" data-dimension37=\"0\" data-dimension43=\"COL_31|COL_71|GAM0|JMALL\" data-dimension44=\"0\" data-position=\"16\" data-track-onclick=\"eecProduct\" data-track-onview=\"eecProduct\" data-track-onclick-bound=\"true\"><img data-lazy=\"\" data-src=\"https://ke.jumia.is/unsafe/fit-in/300x300/filters:fill(white)/product/06/389352/1.jpg?0325\" src=\"data:image/gif;base64,R0lGODlhAQABAIAAAAAAAP///yH5BAEAAAAALAAAAAABAAEAAAIBRAA7\" class=\"img\" width=\"185\" height=\"185\" alt=\"Hand Washing Powder Extra Fresh - 3.5kg\"><div class=\"name\">Hand Washing Powder Extra Fresh - 3.5kg</div><div class=\"prc\" data-oprc=\"KSh 950\">KSh 665</div><div class=\"tag _dsct\">30%</div></a></div><div class=\"itm col\"><a class=\"prd _box\" href=\"/mountain-dew-soft-drink-600ml-12702149.html\" data-id=\"MO228OT1K1C0HNAFAMZ\" data-name=\"Soft Drink - 600ml\" data-price=\"0.41\" data-brand=\"Mountain Dew\" data-category=\"Grocery/Drinks/Carbonated Drinks/Other Soft Drinks\" data-dimension23=\"18951\" data-dimension26=\"8\" data-dimension27=\"4.4\" data-dimension28=\"0\" data-dimension37=\"0\" data-dimension43=\"CARR\" data-dimension44=\"0\" data-position=\"17\" data-track-onclick=\"eecProduct\" data-track-onview=\"eecProduct\" data-track-onclick-bound=\"true\"><img data-lazy=\"\" data-src=\"https://ke.jumia.is/unsafe/fit-in/300x300/filters:fill(white)/product/94/120721/1.jpg?3655\" src=\"data:image/gif;base64,R0lGODlhAQABAIAAAAAAAP///yH5BAEAAAAALAAAAAABAAEAAAIBRAA7\" class=\"img\" width=\"185\" height=\"185\" alt=\"Soft Drink - 600ml\"><div class=\"name\">Soft Drink - 600ml</div><div class=\"prc\">KSh 47</div></a></div><div class=\"itm col\"><a class=\"prd _box\" href=\"/maccoffee-classic-cofee-sachet-1.6g-13359057.html\" data-id=\"MA909OT18PJXFNAFAMZ\" data-name=\"Classic Cofee Sachet 1.6g\" data-price=\"0.03\" data-brand=\"Maccoffee\" data-category=\"Grocery/Drinks/Coffee, Tea &amp; Cocoa/Coffee\" data-dimension23=\"18951\" data-dimension26=\"9\" data-dimension27=\"4.6\" data-dimension28=\"0\" data-dimension37=\"0\" data-dimension43=\"CARR|COL_31|COL_70\" data-dimension44=\"0\" data-position=\"18\" data-track-onclick=\"eecProduct\" data-track-onview=\"eecProduct\" data-track-onclick-bound=\"true\"><img data-lazy=\"\" data-src=\"https://ke.jumia.is/unsafe/fit-in/300x300/filters:fill(white)/product/75/095331/1.jpg?2422\" src=\"data:image/gif;base64,R0lGODlhAQABAIAAAAAAAP///yH5BAEAAAAALAAAAAABAAEAAAIBRAA7\" class=\"img\" width=\"185\" height=\"185\" alt=\"Classic Cofee Sachet 1.6g\"><div class=\"name\">Classic Cofee Sachet 1.6g</div><div class=\"prc\">KSh 4</div></a></div><div class=\"itm col\"><a class=\"prd _box\" href=\"/alpro-soya-wholebean-milk-1-litre-12699019.html\" data-id=\"AL234OT1I8KX1NAFAMZ\" data-name=\"Soya Wholebean Milk - 1 Litre\" data-price=\"3.86\" data-brand=\"Alpro\" data-category=\"Grocery/Drinks/Milk/Milk Substitutes\" data-dimension23=\"18951\" data-dimension26=\"\" data-dimension27=\"\" data-dimension28=\"0\" data-dimension37=\"0\" data-dimension43=\"CARR\" data-dimension44=\"0\" data-position=\"19\" data-track-onclick=\"eecProduct\" data-track-onview=\"eecProduct\" data-track-onclick-bound=\"true\"><img data-lazy=\"\" data-src=\"https://ke.jumia.is/unsafe/fit-in/300x300/filters:fill(white)/product/91/099621/1.jpg?3361\" src=\"data:image/gif;base64,R0lGODlhAQABAIAAAAAAAP///yH5BAEAAAAALAAAAAABAAEAAAIBRAA7\" class=\"img\" width=\"185\" height=\"185\" alt=\"Soya Wholebean Milk - 1 Litre\"><div class=\"name\">Soya Wholebean Milk - 1 Litre</div><div class=\"prc\">KSh 446</div></a></div><div class=\"itm col\"><a class=\"prd _box\" href=\"/salted-snacks-20g-wow-mpg149162.html\" data-id=\"WO343OT0OESCXNAFAMZ\" data-name=\"Salted Snacks - 20g\" data-price=\"0.08\" data-brand=\"Wow\" data-category=\"Grocery/Food Cupboard/Snacks, Crisps &amp; Nuts\" data-dimension23=\"18951\" data-dimension26=\"\" data-dimension27=\"\" data-dimension28=\"0\" data-dimension37=\"0\" data-dimension43=\"CARR\" data-dimension44=\"0\" data-position=\"20\" data-track-onclick=\"eecProduct\" data-track-onview=\"eecProduct\" data-track-onclick-bound=\"true\"><img data-lazy=\"\" data-src=\"https://ke.jumia.is/unsafe/fit-in/300x300/filters:fill(white)/product/41/000721/1.jpg?3508\" src=\"data:image/gif;base64,R0lGODlhAQABAIAAAAAAAP///yH5BAEAAAAALAAAAAABAAEAAAIBRAA7\" class=\"img\" width=\"185\" height=\"185\" alt=\"Salted Snacks - 20g\"><div class=\"name\">Salted Snacks - 20g</div><div class=\"prc\">KSh 9</div></a></div><div class=\"itm col\"><a class=\"prd _box\" href=\"/indomie-noodles-chicken-flavour-20-pack-8489067.html\" data-id=\"IN727DR19B1YONAFAMZ\" data-name=\"Noodles - Chicken Flavour - 20 Pack\" data-price=\"4.32\" data-brand=\"Indomie\" data-category=\"Grocery/Food Cupboard/Pasta &amp; Noodles/Pasta\" data-dimension23=\"7221\" data-dimension26=\"96\" data-dimension27=\"4.5\" data-dimension28=\"1\" data-dimension37=\"0\" data-dimension43=\"COL_31|GAM0\" data-dimension44=\"0\" data-position=\"21\" data-track-onclick=\"eecProduct\" data-track-onview=\"eecProduct\" data-track-onclick-bound=\"true\"><img data-lazy=\"\" data-src=\"https://ke.jumia.is/unsafe/fit-in/300x300/filters:fill(white)/product/76/09848/1.jpg?0300\" src=\"data:image/gif;base64,R0lGODlhAQABAIAAAAAAAP///yH5BAEAAAAALAAAAAABAAEAAAIBRAA7\" class=\"img\" width=\"185\" height=\"185\" alt=\"Noodles - Chicken Flavour - 20 Pack\"><div class=\"name\">Noodles - Chicken Flavour - 20 Pack</div><div class=\"prc\" data-oprc=\"KSh 600\">KSh 500</div><div class=\"tag _dsct\">17%</div></a></div><div class=\"itm col\"><a class=\"prd _box\" href=\"/red-grape-juice-1-litre-pick-n-peel-mpg147874.html\" data-id=\"PI756OT17EXZLNAFAMZ\" data-name=\"Red Grape Juice – 1 Litre Pick N' Peel\" data-price=\"1.62\" data-brand=\"Pick N' Peel\" data-category=\"Grocery/Drinks/Juices &amp; Other Non Carbonated Drinks/Others\" data-dimension23=\"18951\" data-dimension26=\"3\" data-dimension27=\"4.3\" data-dimension28=\"0\" data-dimension37=\"0\" data-dimension43=\"CARR|COL_25\" data-dimension44=\"0\" data-position=\"22\" data-track-onclick=\"eecProduct\" data-track-onview=\"eecProduct\" data-track-onclick-bound=\"true\"><img data-lazy=\"\" data-src=\"https://ke.jumia.is/unsafe/fit-in/300x300/filters:fill(white)/product/72/920721/1.jpg?2126\" src=\"data:image/gif;base64,R0lGODlhAQABAIAAAAAAAP///yH5BAEAAAAALAAAAAABAAEAAAIBRAA7\" class=\"img\" width=\"185\" height=\"185\" alt=\"Red Grape Juice – 1 Litre Pick N' Peel\"><div class=\"name\">Red Grape Juice – 1 Litre Pick N' Peel</div><div class=\"prc\" data-oprc=\"KSh 188\">KSh 187</div><div class=\"tag _dsct\">1%</div></a></div><div class=\"itm col\"><a class=\"prd _box\" href=\"/3.5kg-hand-wash-detergent-ariel-mpg65283.html\" data-id=\"AR681DR0M9UOUNAFAMZ\" data-name=\"3.5kg Hand Wash Detergent\" data-price=\"6.91\" data-brand=\"Ariel\" data-category=\"Grocery/Household Supplies/Laundry/Powder Detergent (Hand)\" data-dimension23=\"4028\" data-dimension26=\"56\" data-dimension27=\"4.6\" data-dimension28=\"1\" data-dimension37=\"0\" data-dimension43=\"COL_71|JMALL\" data-dimension44=\"0\" data-position=\"23\" data-track-onclick=\"eecProduct\" data-track-onview=\"eecProduct\" data-track-onclick-bound=\"true\"><img data-lazy=\"\" data-src=\"https://ke.jumia.is/unsafe/fit-in/300x300/filters:fill(white)/product/37/41123/1.jpg?5788\" src=\"data:image/gif;base64,R0lGODlhAQABAIAAAAAAAP///yH5BAEAAAAALAAAAAABAAEAAAIBRAA7\" class=\"img\" width=\"185\" height=\"185\" alt=\"3.5kg Hand Wash Detergent\"><div class=\"name\">3.5kg Hand Wash Detergent</div><div class=\"prc\" data-oprc=\"KSh 1,000\">KSh 799</div><div class=\"tag _dsct\">20%</div></a></div><div class=\"itm col\"><a class=\"prd _box\" href=\"/chapati-fortified-wheat-flour-2kg-exe-mpg225484.html\" data-id=\"EX715OT07RUH5NAFAMZ\" data-name=\"Chapati Fortified Wheat Flour - 2Kg\" data-price=\"1.05\" data-brand=\"Exe\" data-category=\"Grocery/Food Cupboard/Sugar &amp; Flour/Wheat Flour\" data-dimension23=\"18951\" data-dimension26=\"82\" data-dimension27=\"4.7\" data-dimension28=\"0\" data-dimension37=\"0\" data-dimension43=\"CARR|COL_31|COL_72|JESS\" data-dimension44=\"0\" data-position=\"24\" data-track-onclick=\"eecProduct\" data-track-onview=\"eecProduct\" data-track-onclick-bound=\"true\"><img data-lazy=\"\" data-src=\"https://ke.jumia.is/unsafe/fit-in/300x300/filters:fill(white)/product/13/056521/1.jpg?3052\" src=\"data:image/gif;base64,R0lGODlhAQABAIAAAAAAAP///yH5BAEAAAAALAAAAAABAAEAAAIBRAA7\" class=\"img\" width=\"185\" height=\"185\" alt=\"Chapati Fortified Wheat Flour - 2Kg\"><div class=\"name\">Chapati Fortified Wheat Flour - 2Kg</div><div class=\"prc\">KSh 121</div></a></div><div class=\"itm col\"><a class=\"prd _box\" href=\"/daima-fresh-milk-pouch-esl-24048739.html\" data-id=\"DA410DR1JU48ANAFAMZ\" data-name=\"Fresh Milk Pouch Esl\" data-price=\"0.36\" data-brand=\"Daima\" data-category=\"Grocery/Drinks/Milk/Long Life\" data-dimension23=\"18951\" data-dimension26=\"11\" data-dimension27=\"4.6\" data-dimension28=\"0\" data-dimension37=\"0\" data-dimension43=\"CARR|COL_31\" data-dimension44=\"0\" data-position=\"25\" data-track-onclick=\"eecProduct\" data-track-onview=\"eecProduct\" data-track-onclick-bound=\"true\"><img data-lazy=\"\" data-src=\"https://ke.jumia.is/unsafe/fit-in/300x300/filters:fill(white)/product/93/784042/1.jpg?1304\" src=\"data:image/gif;base64,R0lGODlhAQABAIAAAAAAAP///yH5BAEAAAAALAAAAAABAAEAAAIBRAA7\" class=\"img\" width=\"185\" height=\"185\" alt=\"Fresh Milk Pouch Esl\"><div class=\"name\">Fresh Milk Pouch Esl</div><div class=\"prc\" data-oprc=\"KSh 43\">KSh 42</div><div class=\"tag _dsct\">2%</div></a></div><div class=\"itm col\"><a class=\"prd _box\" href=\"/1kg-hand-wash-detergent-ariel-mpg52406.html\" data-id=\"AR681DR0EOATTNAFAMZ\" data-name=\"1kg Hand Wash Detergent\" data-price=\"2.50\" data-brand=\"Ariel\" data-category=\"Grocery/Household Supplies/Laundry/Powder Detergent (Hand)\" data-dimension23=\"4028\" data-dimension26=\"19\" data-dimension27=\"4.4\" data-dimension28=\"1\" data-dimension37=\"0\" data-dimension43=\"COL_71|JMALL\" data-dimension44=\"0\" data-position=\"26\" data-track-onclick=\"eecProduct\" data-track-onview=\"eecProduct\" data-track-onclick-bound=\"true\"><img data-lazy=\"\" data-src=\"https://ke.jumia.is/unsafe/fit-in/300x300/filters:fill(white)/product/24/648401/1.jpg?4738\" src=\"data:image/gif;base64,R0lGODlhAQABAIAAAAAAAP///yH5BAEAAAAALAAAAAABAAEAAAIBRAA7\" class=\"img\" width=\"185\" height=\"185\" alt=\"1kg Hand Wash Detergent\"><div class=\"name\">1kg Hand Wash Detergent</div><div class=\"prc\">KSh 290</div></a></div><div class=\"itm col\"><a class=\"prd _box\" href=\"/lemon-dish-washing-liquid-750ml-sunlight-mpg173632.html\" data-id=\"SU503DR0XCZNCNAFAMZ\" data-name=\"Dish washing Liquid Lemon - 750ml\" data-price=\"1.56\" data-brand=\"Sunlight\" data-category=\"Grocery/Household Supplies/Kitchen Cleaner/Dishwasher Detergent\" data-dimension23=\"3196\" data-dimension26=\"179\" data-dimension27=\"4.6\" data-dimension28=\"1\" data-dimension37=\"0\" data-dimension43=\"JESS|JMALL\" data-dimension44=\"0\" data-position=\"27\" data-track-onclick=\"eecProduct\" data-track-onview=\"eecProduct\" data-track-onclick-bound=\"true\"><img data-lazy=\"\" data-src=\"https://ke.jumia.is/unsafe/fit-in/300x300/filters:fill(white)/product/56/0334/1.jpg?8093\" src=\"data:image/gif;base64,R0lGODlhAQABAIAAAAAAAP///yH5BAEAAAAALAAAAAABAAEAAAIBRAA7\" class=\"img\" width=\"185\" height=\"185\" alt=\"Dish washing Liquid Lemon - 750ml\"><div class=\"name\">Dish washing Liquid Lemon - 750ml</div><div class=\"prc\" data-oprc=\"KSh 240\">KSh 180</div>\n",
    "<div class=\"tag _dsct\">25%</div></a></div></div>\"\"\"\n",
    "from bs4 import BeautifulSoup as bs\n",
    "\n",
    "beer = bs(beer,'lxml')#findng the html content\n",
    "#beer.status_code only when online!!\n",
    "#find the price, disc, rating, name,brand.#testing\n",
    "price = beer.find(class_='prc').get_text()\n",
    "disc = beer.find(class_='tag _dsct').get_text()\n",
    "rating = beer.find('a')\n",
    "rate = rating['data-dimension27']\n",
    "print(rate)\n",
    "print(disc)\n",
    "name = beer.find(class_='name').get_text()\n",
    "brand = beer.find('a')\n",
    "brand = brand['data-brand']\n",
    "print(brand)\n",
    "\n",
    "prices = [pt.get_text() for pt in beer.select('div.prc')]\n",
    "name = [pt.get_text() for pt in beer.select('div.name')]\n",
    "ratings = [pt.get('data-dimension27') for pt in beer.select('a')]\n",
    "print(ratings)\n",
    "disc = [pt.get() for pt in beer.select('div.tag _dsct')]#to be worked on\n",
    "print(disc)\n",
    "brand = [b.get('data-brand') for b in beer.select('a')]\n",
    "print(brand)\n",
    "print(prices)"
   ]
  },
  {
   "cell_type": "code",
   "execution_count": 143,
   "metadata": {},
   "outputs": [
    {
     "ename": "TypeError",
     "evalue": "slice indices must be integers or None or have an __index__ method",
     "output_type": "error",
     "traceback": [
      "\u001b[1;31m---------------------------------------------------------------------------\u001b[0m",
      "\u001b[1;31mTypeError\u001b[0m                                 Traceback (most recent call last)",
      "\u001b[1;32m<ipython-input-143-889520271c53>\u001b[0m in \u001b[0;36m<module>\u001b[1;34m\u001b[0m\n\u001b[0;32m      3\u001b[0m \u001b[0mdiscs\u001b[0m \u001b[1;33m=\u001b[0m \u001b[1;33m[\u001b[0m\u001b[1;33m]\u001b[0m\u001b[1;33m\u001b[0m\u001b[1;33m\u001b[0m\u001b[0m\n\u001b[0;32m      4\u001b[0m \u001b[1;32mfor\u001b[0m \u001b[0ma\u001b[0m \u001b[1;32min\u001b[0m \u001b[0mproducts\u001b[0m\u001b[1;33m:\u001b[0m\u001b[1;33m\u001b[0m\u001b[1;33m\u001b[0m\u001b[0m\n\u001b[1;32m----> 5\u001b[1;33m     \u001b[0mname\u001b[0m \u001b[1;33m=\u001b[0m \u001b[0ma\u001b[0m\u001b[1;33m.\u001b[0m\u001b[0mfind\u001b[0m\u001b[1;33m(\u001b[0m\u001b[1;34m'div'\u001b[0m\u001b[1;33m,\u001b[0m \u001b[1;33m{\u001b[0m\u001b[1;34m'class'\u001b[0m\u001b[1;33m:\u001b[0m\u001b[1;34m'name'\u001b[0m\u001b[1;33m}\u001b[0m\u001b[1;33m)\u001b[0m\u001b[1;31m#.get_text()\u001b[0m\u001b[1;33m\u001b[0m\u001b[1;33m\u001b[0m\u001b[0m\n\u001b[0m\u001b[0;32m      6\u001b[0m     \u001b[0mprice\u001b[0m \u001b[1;33m=\u001b[0m \u001b[0ma\u001b[0m\u001b[1;33m.\u001b[0m\u001b[0mfind\u001b[0m\u001b[1;33m(\u001b[0m\u001b[1;34m'div'\u001b[0m\u001b[1;33m,\u001b[0m\u001b[1;33m{\u001b[0m\u001b[1;34m'class'\u001b[0m\u001b[1;33m:\u001b[0m\u001b[1;34m'prc'\u001b[0m\u001b[1;33m}\u001b[0m\u001b[1;33m)\u001b[0m\u001b[1;31m#.get_text()\u001b[0m\u001b[1;33m\u001b[0m\u001b[1;33m\u001b[0m\u001b[0m\n\u001b[0;32m      7\u001b[0m     \u001b[0mdisc\u001b[0m \u001b[1;33m=\u001b[0m \u001b[0ma\u001b[0m\u001b[1;33m.\u001b[0m\u001b[0mfind\u001b[0m\u001b[1;33m(\u001b[0m\u001b[1;34m'div'\u001b[0m\u001b[1;33m,\u001b[0m \u001b[1;33m{\u001b[0m\u001b[1;34m'class'\u001b[0m\u001b[1;33m:\u001b[0m\u001b[1;34m'tag _dsct'\u001b[0m\u001b[1;33m}\u001b[0m\u001b[1;33m)\u001b[0m\u001b[1;31m#.get_text()\u001b[0m\u001b[1;33m\u001b[0m\u001b[1;33m\u001b[0m\u001b[0m\n",
      "\u001b[1;31mTypeError\u001b[0m: slice indices must be integers or None or have an __index__ method"
     ]
    }
   ],
   "source": [
    "names = []\n",
    "prices = []\n",
    "discs = []\n",
    "for a in products:\n",
    "    name = a.find('div', {'class':'name'})#.get_text()\n",
    "    price = a.find('div',{'class':'prc'})#.get_text()\n",
    "    disc = a.find('div', {'class':'tag _dsct'})#.get_text()\n",
    "    try:\n",
    "        names.append(name.text())\n",
    "    except:\n",
    "        products.append('----')\n",
    "    \n",
    "print(names)\n",
    "print(prices)\n",
    "print(discs)\n",
    "#(products[0])"
   ]
  },
  {
   "cell_type": "markdown",
   "metadata": {},
   "source": [
    "using tags to find attributes"
   ]
  },
  {
   "cell_type": "code",
   "execution_count": 81,
   "metadata": {},
   "outputs": [
    {
     "name": "stdout",
     "output_type": "stream",
     "text": [
      "Gold Beer - 330ml (24 Pcs).\n",
      "[]\n"
     ]
    }
   ],
   "source": [
    "img=product1.find(\"img\")\n",
    "img = img['alt']\n",
    "print(img)\n",
    "\n",
    "info = product1.find_all('data-brand')\n",
    "#brand = info['data-brand']\n",
    "print(info)"
   ]
  },
  {
   "cell_type": "markdown",
   "metadata": {},
   "source": [
    "### Extracting all thee information from the page.\n",
    "----"
   ]
  },
  {
   "cell_type": "markdown",
   "metadata": {},
   "source": [
    "Combining the knowledge we know with css selectors and list comprehension to extract everything at once. \n",
    "#### procedure.\n",
    "- select all items with the class `prd _box` inside and item with the class `name` in our div tag.\n",
    "- use list comprehension to call the `get_text()` method on each BS object."
   ]
  },
  {
   "cell_type": "code",
   "execution_count": null,
   "metadata": {},
   "outputs": [],
   "source": [
    "#jm > main > div.row.-pvm > div.col16.-mvs > div > div > div"
   ]
  },
  {
   "cell_type": "code",
   "execution_count": 65,
   "metadata": {},
   "outputs": [
    {
     "name": "stdout",
     "output_type": "stream",
     "text": [
      "27\n"
     ]
    }
   ],
   "source": [
    "product_tag = top_items.select('a')#all the products in the topitem tag\n",
    "prods = [pt.get_text() for pt in product_tag] #list containing everything\n",
    "print(len(prods))#number of items in the list."
   ]
  },
  {
   "cell_type": "code",
   "execution_count": 95,
   "metadata": {},
   "outputs": [
    {
     "name": "stdout",
     "output_type": "stream",
     "text": [
      "None\n"
     ]
    }
   ],
   "source": [
    "item1=products[0].__getattr__('class')\n",
    "print(item1)"
   ]
  },
  {
   "cell_type": "code",
   "execution_count": 85,
   "metadata": {},
   "outputs": [
    {
     "ename": "TypeError",
     "evalue": "list indices must be integers or slices, not str",
     "output_type": "error",
     "traceback": [
      "\u001b[1;31m---------------------------------------------------------------------------\u001b[0m",
      "\u001b[1;31mTypeError\u001b[0m                                 Traceback (most recent call last)",
      "\u001b[1;32m<ipython-input-85-4a60e64be971>\u001b[0m in \u001b[0;36m<module>\u001b[1;34m\u001b[0m\n\u001b[0;32m      1\u001b[0m \u001b[1;31m#list of lists.\u001b[0m\u001b[1;33m\u001b[0m\u001b[1;33m\u001b[0m\u001b[1;33m\u001b[0m\u001b[0m\n\u001b[1;32m----> 2\u001b[1;33m \u001b[0mbrand\u001b[0m \u001b[1;33m=\u001b[0m \u001b[0mproducts\u001b[0m\u001b[1;33m[\u001b[0m\u001b[1;34m'data-brand'\u001b[0m\u001b[1;33m]\u001b[0m\u001b[1;33m\u001b[0m\u001b[1;33m\u001b[0m\u001b[0m\n\u001b[0m",
      "\u001b[1;31mTypeError\u001b[0m: list indices must be integers or slices, not str"
     ]
    }
   ],
   "source": [
    "#list of lists.\n",
    "brand = products['data-brand']"
   ]
  },
  {
   "cell_type": "code",
   "execution_count": 91,
   "metadata": {},
   "outputs": [
    {
     "data": {
      "text/plain": [
       "['__add__',\n",
       " '__class__',\n",
       " '__contains__',\n",
       " '__delattr__',\n",
       " '__delitem__',\n",
       " '__dict__',\n",
       " '__dir__',\n",
       " '__doc__',\n",
       " '__eq__',\n",
       " '__format__',\n",
       " '__ge__',\n",
       " '__getattr__',\n",
       " '__getattribute__',\n",
       " '__getitem__',\n",
       " '__gt__',\n",
       " '__hash__',\n",
       " '__iadd__',\n",
       " '__imul__',\n",
       " '__init__',\n",
       " '__init_subclass__',\n",
       " '__iter__',\n",
       " '__le__',\n",
       " '__len__',\n",
       " '__lt__',\n",
       " '__module__',\n",
       " '__mul__',\n",
       " '__ne__',\n",
       " '__new__',\n",
       " '__reduce__',\n",
       " '__reduce_ex__',\n",
       " '__repr__',\n",
       " '__reversed__',\n",
       " '__rmul__',\n",
       " '__setattr__',\n",
       " '__setitem__',\n",
       " '__sizeof__',\n",
       " '__str__',\n",
       " '__subclasshook__',\n",
       " '__weakref__',\n",
       " 'append',\n",
       " 'clear',\n",
       " 'copy',\n",
       " 'count',\n",
       " 'extend',\n",
       " 'index',\n",
       " 'insert',\n",
       " 'pop',\n",
       " 'remove',\n",
       " 'reverse',\n",
       " 'sort',\n",
       " 'source']"
      ]
     },
     "execution_count": 91,
     "metadata": {},
     "output_type": "execute_result"
    }
   ],
   "source": [
    "dir(products)"
   ]
  },
  {
   "cell_type": "markdown",
   "metadata": {},
   "source": [
    "product reviews."
   ]
  },
  {
   "cell_type": "markdown",
   "metadata": {},
   "source": [
    "add 2 reviews, one negative(1), second postive(5). \n",
    "\n",
    "example. \n",
    "a1, a2, a3 = 1000, 10, 0\n",
    "b1, b2, b3 = 4.5, 5, 0\n",
    "\n",
    "```python\n",
    "a1, a2, a3 = 1000, 10, 0\n",
    "b1, b2, b3 = 4.5, 5, 0\n",
    "actural1 = round((a1*b1)+5+1)/(a1+2)\n",
    "actural2 = round((a2*b2)+5+1)/(a2+2)\n",
    "actural3 = round((a3*b3)+5+1)/(a3+2)\n",
    "print(actual1,actual2,actual3)\n",
    "```"
   ]
  },
  {
   "cell_type": "code",
   "execution_count": 4,
   "metadata": {},
   "outputs": [
    {
     "name": "stdout",
     "output_type": "stream",
     "text": [
      "4.497 4.6667 3.0\n"
     ]
    }
   ],
   "source": [
    "a1, a2, a3 = 1000, 10, 0\n",
    "b1, b2, b3 = 4.5, 5, 0\n",
    "actual1 = round(((a1*b1)+5+1)/(a1+2),4)\n",
    "actual2 = round(((a2*b2)+5+1)/(a2+2),4)\n",
    "actual3 = round(((a3*b3)+5+1)/(a3+2),4)\n",
    "print(actual1,actual2,actual3)"
   ]
  },
  {
   "cell_type": "code",
   "execution_count": 15,
   "metadata": {},
   "outputs": [
    {
     "ename": "TypeError",
     "evalue": "expected string or bytes-like object",
     "output_type": "error",
     "traceback": [
      "\u001b[1;31m---------------------------------------------------------------------------\u001b[0m",
      "\u001b[1;31mTypeError\u001b[0m                                 Traceback (most recent call last)",
      "\u001b[1;32m<ipython-input-15-30b3e8adb4ec>\u001b[0m in \u001b[0;36m<module>\u001b[1;34m\u001b[0m\n\u001b[0;32m     11\u001b[0m \u001b[1;33m\u001b[0m\u001b[0m\n\u001b[0;32m     12\u001b[0m \u001b[0mtopselling\u001b[0m \u001b[1;33m=\u001b[0m \u001b[0msoup\u001b[0m\u001b[1;33m.\u001b[0m\u001b[0mfind_all\u001b[0m\u001b[1;33m(\u001b[0m\u001b[1;34m\"div\"\u001b[0m\u001b[1;33m,\u001b[0m \u001b[1;33m{\u001b[0m\u001b[1;34m\"class\"\u001b[0m\u001b[1;33m:\u001b[0m \u001b[1;34m\"crs-w _main -pvs -phxs\"\u001b[0m\u001b[1;33m}\u001b[0m\u001b[1;33m)\u001b[0m\u001b[1;33m\u001b[0m\u001b[1;33m\u001b[0m\u001b[0m\n\u001b[1;32m---> 13\u001b[1;33m \u001b[0mlinks\u001b[0m \u001b[1;33m=\u001b[0m \u001b[0mre\u001b[0m\u001b[1;33m.\u001b[0m\u001b[0mfindall\u001b[0m\u001b[1;33m(\u001b[0m\u001b[1;34m'href=\"/(\\S+\\.html)\"'\u001b[0m\u001b[1;33m,\u001b[0m\u001b[0mtopselling\u001b[0m\u001b[1;33m)\u001b[0m\u001b[1;33m\u001b[0m\u001b[1;33m\u001b[0m\u001b[0m\n\u001b[0m",
      "\u001b[1;32m~\\Anaconda3\\lib\\re.py\u001b[0m in \u001b[0;36mfindall\u001b[1;34m(pattern, string, flags)\u001b[0m\n\u001b[0;32m    221\u001b[0m \u001b[1;33m\u001b[0m\u001b[0m\n\u001b[0;32m    222\u001b[0m     Empty matches are included in the result.\"\"\"\n\u001b[1;32m--> 223\u001b[1;33m     \u001b[1;32mreturn\u001b[0m \u001b[0m_compile\u001b[0m\u001b[1;33m(\u001b[0m\u001b[0mpattern\u001b[0m\u001b[1;33m,\u001b[0m \u001b[0mflags\u001b[0m\u001b[1;33m)\u001b[0m\u001b[1;33m.\u001b[0m\u001b[0mfindall\u001b[0m\u001b[1;33m(\u001b[0m\u001b[0mstring\u001b[0m\u001b[1;33m)\u001b[0m\u001b[1;33m\u001b[0m\u001b[1;33m\u001b[0m\u001b[0m\n\u001b[0m\u001b[0;32m    224\u001b[0m \u001b[1;33m\u001b[0m\u001b[0m\n\u001b[0;32m    225\u001b[0m \u001b[1;32mdef\u001b[0m \u001b[0mfinditer\u001b[0m\u001b[1;33m(\u001b[0m\u001b[0mpattern\u001b[0m\u001b[1;33m,\u001b[0m \u001b[0mstring\u001b[0m\u001b[1;33m,\u001b[0m \u001b[0mflags\u001b[0m\u001b[1;33m=\u001b[0m\u001b[1;36m0\u001b[0m\u001b[1;33m)\u001b[0m\u001b[1;33m:\u001b[0m\u001b[1;33m\u001b[0m\u001b[1;33m\u001b[0m\u001b[0m\n",
      "\u001b[1;31mTypeError\u001b[0m: expected string or bytes-like object"
     ]
    }
   ],
   "source": [
    "from bs4 import BeautifulSoup as bs\n",
    "import requests\n",
    "import re\n",
    "# Scrape for links from any div to get products.\n",
    "url = \"https://www.jumia.co.ke/\"\n",
    "\n",
    "response = requests.get(url)\n",
    "html = response.text\n",
    "soup = bs(html,'html.parser')\n",
    "\n",
    "\n",
    "topselling = soup.find_all(\"div\", {\"class\": \"crs-w _main -pvs -phxs\"})\n",
    "links = re.findall('href=\"/(\\S+\\.html)\"',topselling)"
   ]
  },
  {
   "cell_type": "code",
   "execution_count": 16,
   "metadata": {},
   "outputs": [],
   "source": [
    "url  = \"https://en.wikipedia.org/wiki/Politics_of_Kenya\""
   ]
  },
  {
   "cell_type": "code",
   "execution_count": 23,
   "metadata": {},
   "outputs": [],
   "source": [
    "response = requests.get(url)\n",
    "html = response.text\n",
    "soup = bs(html,\"html.parser\")\n"
   ]
  },
  {
   "cell_type": "code",
   "execution_count": 25,
   "metadata": {},
   "outputs": [
    {
     "ename": "TypeError",
     "evalue": "'builtin_function_or_method' object is not iterable",
     "output_type": "error",
     "traceback": [
      "\u001b[1;31m---------------------------------------------------------------------------\u001b[0m",
      "\u001b[1;31mTypeError\u001b[0m                                 Traceback (most recent call last)",
      "\u001b[1;32m<ipython-input-25-0c6eb2a9cb36>\u001b[0m in \u001b[0;36m<module>\u001b[1;34m\u001b[0m\n\u001b[0;32m      3\u001b[0m     \u001b[0mx\u001b[0m\u001b[1;33m=\u001b[0m \u001b[0mpara\u001b[0m\u001b[1;33m.\u001b[0m\u001b[0mtext\u001b[0m\u001b[1;33m\u001b[0m\u001b[1;33m\u001b[0m\u001b[0m\n\u001b[0;32m      4\u001b[0m     \u001b[0mwords\u001b[0m \u001b[1;33m=\u001b[0m \u001b[0mx\u001b[0m\u001b[1;33m.\u001b[0m\u001b[0msplit\u001b[0m\u001b[1;33m\u001b[0m\u001b[1;33m\u001b[0m\u001b[0m\n\u001b[1;32m----> 5\u001b[1;33m     \u001b[1;32mfor\u001b[0m \u001b[0mi\u001b[0m \u001b[1;32min\u001b[0m \u001b[0mwords\u001b[0m\u001b[1;33m:\u001b[0m\u001b[1;33m\u001b[0m\u001b[1;33m\u001b[0m\u001b[0m\n\u001b[0m\u001b[0;32m      6\u001b[0m         \u001b[0mword_list\u001b[0m\u001b[1;33m.\u001b[0m\u001b[0mappend\u001b[0m\u001b[1;33m(\u001b[0m\u001b[0mi\u001b[0m\u001b[1;33m)\u001b[0m\u001b[1;33m\u001b[0m\u001b[1;33m\u001b[0m\u001b[0m\n\u001b[0;32m      7\u001b[0m \u001b[1;33m\u001b[0m\u001b[0m\n",
      "\u001b[1;31mTypeError\u001b[0m: 'builtin_function_or_method' object is not iterable"
     ]
    }
   ],
   "source": [
    "word_list = []\n",
    "for para in soup.find_all('p'):\n",
    "    x= para.text\n",
    "    words = x.split\n",
    "    for i in words:\n",
    "        word_list.append(i)\n",
    "        \n",
    "print(word_list)"
   ]
  },
  {
   "cell_type": "code",
   "execution_count": 28,
   "metadata": {},
   "outputs": [
    {
     "ename": "SyntaxError",
     "evalue": "unexpected EOF while parsing (<ipython-input-28-db5b1832a094>, line 25)",
     "output_type": "error",
     "traceback": [
      "\u001b[1;36m  File \u001b[1;32m\"<ipython-input-28-db5b1832a094>\"\u001b[1;36m, line \u001b[1;32m25\u001b[0m\n\u001b[1;33m    \u001b[0m\n\u001b[1;37m    ^\u001b[0m\n\u001b[1;31mSyntaxError\u001b[0m\u001b[1;31m:\u001b[0m unexpected EOF while parsing\n"
     ]
    }
   ],
   "source": [
    "draft1 = list()\n",
    "#remove citations\n",
    "for word in word_list:\n",
    "    cited = re.findall(\"(\\S+)\\[[0-9]+\\]\",word)\n",
    "    if len(cited) > 0:\n",
    "        print(cited)\n",
    "        \n",
    "draft2 = list()\n",
    "#remove acronyms and numbers\n",
    "for word in draft1:\n",
    "    if re.search(\"[A-Z][A-Z]\", word):\n",
    "        pass\n",
    "    elif re.search(\"[A-Z][a-a][A-Z]\", word):\n",
    "        pass\n",
    "    elif re.search(\"[0-9]\", word):\n",
    "        pass\n",
    "    else:\n",
    "        draft2.append(word)\n",
    "        \n",
    "#remove punctuations\n",
    "draft3 = list()\n",
    "\n",
    "for word in draft2:\n",
    "    if re.search(\"[A-Za-z][\\.][A-Za-z]\", word):\n",
    "        a = re.sub(\",.\",\" \", word)\n",
    "        for word in a.split():\n",
    "            draft3.append(word)        \n",
    "    elif re.search('[,\\./\\(\\)\"]+\\S+', word):\n",
    "        b = re.search('[,\\./\\(\\)\"]+(\\S+)', word)\n",
    "        draft3.append(b[0])\n",
    "    else:\n",
    "        draft.append(word)\n",
    "        \n",
    "        \n",
    "draft4 = list()\n",
    "\n",
    "for word in draft3:\n",
    "    if re.search('\\S+[,\\./\\(\\)\"]+', word):\n",
    "        c = re.search('\\S+[,\\./\\(\\)\"]+', word)\n",
    "        draft4.append(c[0])\n",
    "    else:\n",
    "        draft4.append(word)\n",
    "        \n",
    "#removing unnecessay one-charactr words\n",
    "final = list()\n",
    "for word in draft4:\n",
    "    if len(word) == 1:\n",
    "        if word.lower() == \"a\" or word == \"I\":\n",
    "            final.append(word.lower())\n",
    "        else:\n",
    "            pass\n",
    "    else:\n",
    "        final.append(word.lower())\n",
    "        \n"
   ]
  },
  {
   "cell_type": "code",
   "execution_count": null,
   "metadata": {},
   "outputs": [],
   "source": [
    "#most commonly used words.\n",
    "word_count = dict{}\n",
    "\n",
    "for word in final:\n",
    "    if word not in word_count:\n",
    "        word_count[word]=1\n",
    "    else:\n",
    "        word_count[word]"
   ]
  }
 ],
 "metadata": {
  "kernelspec": {
   "display_name": "Python 3",
   "language": "python",
   "name": "python3"
  },
  "language_info": {
   "codemirror_mode": {
    "name": "ipython",
    "version": 3
   },
   "file_extension": ".py",
   "mimetype": "text/x-python",
   "name": "python",
   "nbconvert_exporter": "python",
   "pygments_lexer": "ipython3",
   "version": "3.7.4"
  }
 },
 "nbformat": 4,
 "nbformat_minor": 4
}
